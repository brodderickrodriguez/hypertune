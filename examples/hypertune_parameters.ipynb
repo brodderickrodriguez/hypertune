{
 "cells": [
  {
   "cell_type": "code",
   "execution_count": 11,
   "metadata": {},
   "outputs": [],
   "source": [
    "import hypertune as ht"
   ]
  },
  {
   "cell_type": "markdown",
   "metadata": {},
   "source": [
    "# `hypertune` `Parameter`s\n",
    "\n",
    "`hypertune` has six types of parameters:\n",
    "* `ConstantParameter`,\n",
    "* `ContinuousParameter`,\n",
    "* `DiscreteParameter`,\n",
    "* `TupleParameter`,\n",
    "* `CategoricalParameter`, and\n",
    "* `ObjectParameter`.\n",
    "\n",
    "Each `Parameter` type specify unique behavior depending on the expected behavior of the Machine Learning algorithm you wish to tune. In this notebook we will outline the purpose of each `Parameter` and how to use them. "
   ]
  },
  {
   "cell_type": "markdown",
   "metadata": {},
   "source": [
    "### `ConstantParameter`\n",
    "`ConstantParameter` can be used by a `hypertune.HyperTune` object as a default parameter (i.e. a constant) or can be passed to subsequent `Parameter`s. The former use case is tractable when using a ML algorithm implementation where a parameter is required (has no default value). The latter use case is tractable when the target Machine Learning algorithm can take a parameter that is not primitive.\n",
    "\n",
    "Parameters\n",
    "  * `name` is the name of the parameter defined in the interface of the target Machine Learning algorithm and is used to match this `Paramerter` object the desired hyperparameter.  \n",
    "  * `value`: is the true value that will always be passed to the target Machine Learning algorithm. \n",
    "\n",
    "Example:"
   ]
  },
  {
   "cell_type": "code",
   "execution_count": 13,
   "metadata": {
    "scrolled": true
   },
   "outputs": [
    {
     "name": "stdout",
     "output_type": "stream",
     "text": [
      "ConstantParameter {'name': 'eta', 'shape': 0, 'value': 0.1}\n"
     ]
    }
   ],
   "source": [
    "eta = ht.ConstantParameter(name='eta', value=0.1)\n",
    "print(eta)"
   ]
  },
  {
   "cell_type": "markdown",
   "metadata": {},
   "source": [
    "\n",
    "### `ContinuousParameter`\n",
    "disc disc disc disc disc disc disc disc disc disc disc disc disc disc disc disc disc disc disc disc disc disc disc disc disc disc disc disc\n",
    "\n",
    "* Parameters:\n",
    "* Example:"
   ]
  },
  {
   "cell_type": "code",
   "execution_count": null,
   "metadata": {},
   "outputs": [],
   "source": []
  },
  {
   "cell_type": "markdown",
   "metadata": {},
   "source": [
    "\n",
    "\n",
    "### `DiscreteParameter`\n",
    "disc disc disc disc disc disc disc disc disc disc disc disc disc disc disc disc disc disc disc disc disc disc disc disc disc disc disc disc\n",
    "\n",
    "* Parameters:\n",
    "* Example:"
   ]
  },
  {
   "cell_type": "code",
   "execution_count": null,
   "metadata": {},
   "outputs": [],
   "source": []
  },
  {
   "cell_type": "markdown",
   "metadata": {},
   "source": [
    "\n",
    "\n",
    "### `TupleParameter`\n",
    "disc disc disc disc disc disc disc disc disc disc disc disc disc disc disc disc disc disc disc disc disc disc disc disc disc disc disc disc\n",
    "\n",
    "* Parameters:\n",
    "* Example:"
   ]
  },
  {
   "cell_type": "code",
   "execution_count": null,
   "metadata": {},
   "outputs": [],
   "source": []
  },
  {
   "cell_type": "markdown",
   "metadata": {},
   "source": [
    "\n",
    "\n",
    "### `CategoricalParameter`\n",
    "disc disc disc disc disc disc disc disc disc disc disc disc disc disc disc disc disc disc disc disc disc disc disc disc disc disc disc disc\n",
    "\n",
    "* Parameters:\n",
    "* Example:"
   ]
  },
  {
   "cell_type": "code",
   "execution_count": null,
   "metadata": {},
   "outputs": [],
   "source": []
  },
  {
   "cell_type": "markdown",
   "metadata": {},
   "source": [
    "\n",
    "\n",
    "### `ObjectParameter`\n",
    "disc disc disc disc disc disc disc disc disc disc disc disc disc disc disc disc disc disc disc disc disc disc disc disc disc disc disc disc\n",
    "\n",
    "* Parameters:\n",
    "* Example:"
   ]
  },
  {
   "cell_type": "code",
   "execution_count": null,
   "metadata": {},
   "outputs": [],
   "source": []
  },
  {
   "cell_type": "code",
   "execution_count": null,
   "metadata": {},
   "outputs": [],
   "source": []
  }
 ],
 "metadata": {
  "kernelspec": {
   "display_name": "Python 3",
   "language": "python",
   "name": "python3"
  },
  "language_info": {
   "codemirror_mode": {
    "name": "ipython",
    "version": 3
   },
   "file_extension": ".py",
   "mimetype": "text/x-python",
   "name": "python",
   "nbconvert_exporter": "python",
   "pygments_lexer": "ipython3",
   "version": "3.7.4"
  }
 },
 "nbformat": 4,
 "nbformat_minor": 2
}
